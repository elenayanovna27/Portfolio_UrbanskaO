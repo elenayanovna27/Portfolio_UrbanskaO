{
 "cells": [
  {
   "cell_type": "markdown",
   "id": "5d90aed1-d8dc-45a8-99b9-ada613345fab",
   "metadata": {},
   "source": [
    "# **Insights from Failed Orders**"
   ]
  },
  {
   "cell_type": "markdown",
   "id": "a115cbd1-b878-419f-b92f-b7e4844e6844",
   "metadata": {},
   "source": [
    "Gett, previously known as GetTaxi, is an Israeli-developed technology platform solely focused on corporate Ground Transportation Management (GTM). They have an application where clients can order taxis, and drivers can accept their rides (offers). At the moment, when the client clicks the Order button in the application, the matching system searches for the most relevant drivers and offers them the order. In this task, we would like to investigate some matching metrics for orders that did not completed successfully, i.e., the customer didn't end up getting a car."
   ]
  },
  {
   "cell_type": "markdown",
   "id": "8a0e9284-02ef-4f07-8934-ad292099658f",
   "metadata": {},
   "source": [
    "Please complete the following tasks.\n",
    "\n",
    "Build up distribution of orders according to reasons for failure: cancellations before and after driver assignment, and reasons for order rejection. Analyse the resulting plot. Which category has the highest number of orders?\n",
    "Plot the distribution of failed orders by hours. Is there a trend that certain hours have an abnormally high proportion of one category or another? What hours are the biggest fails? How can this be explained?\n",
    "Plot the average time to cancellation with and without driver, by the hour. If there are any outliers in the data, it would be better to remove them. Can we draw any conclusions from this plot?\n",
    "Plot the distribution of average ETA by hours. How can this plot be explained?\n",
    "BONUS Hexagons. Using the h3 and folium packages, calculate how many sizes 8 hexes contain 80% of all orders from the original data sets and visualise the hexes, colouring them by the number of fails on the map."
   ]
  },
  {
   "cell_type": "markdown",
   "id": "685f0f15-d7ab-4cd7-84ad-dab57c513dd3",
   "metadata": {},
   "source": [
    "First of all, we have to import all needed packages for exploring this dataset."
   ]
  },
  {
   "cell_type": "code",
   "execution_count": 1,
   "id": "c2ec56ac-692e-4869-b7ae-4aa82c52c416",
   "metadata": {
    "scrolled": true
   },
   "outputs": [
    {
     "name": "stdout",
     "output_type": "stream",
     "text": [
      "Requirement already satisfied: seaborn in c:\\users\\elena\\miniconda3\\envs\\pydata-book\\lib\\site-packages (0.13.2)\n",
      "Requirement already satisfied: numpy!=1.24.0,>=1.20 in c:\\users\\elena\\miniconda3\\envs\\pydata-book\\lib\\site-packages (from seaborn) (1.26.3)\n",
      "Requirement already satisfied: pandas>=1.2 in c:\\users\\elena\\miniconda3\\envs\\pydata-book\\lib\\site-packages (from seaborn) (2.1.4)\n",
      "Requirement already satisfied: matplotlib!=3.6.1,>=3.4 in c:\\users\\elena\\miniconda3\\envs\\pydata-book\\lib\\site-packages (from seaborn) (3.8.0)\n",
      "Requirement already satisfied: contourpy>=1.0.1 in c:\\users\\elena\\miniconda3\\envs\\pydata-book\\lib\\site-packages (from matplotlib!=3.6.1,>=3.4->seaborn) (1.2.0)\n",
      "Requirement already satisfied: cycler>=0.10 in c:\\users\\elena\\miniconda3\\envs\\pydata-book\\lib\\site-packages (from matplotlib!=3.6.1,>=3.4->seaborn) (0.11.0)\n",
      "Requirement already satisfied: fonttools>=4.22.0 in c:\\users\\elena\\miniconda3\\envs\\pydata-book\\lib\\site-packages (from matplotlib!=3.6.1,>=3.4->seaborn) (4.25.0)\n",
      "Requirement already satisfied: kiwisolver>=1.0.1 in c:\\users\\elena\\miniconda3\\envs\\pydata-book\\lib\\site-packages (from matplotlib!=3.6.1,>=3.4->seaborn) (1.4.4)\n",
      "Requirement already satisfied: packaging>=20.0 in c:\\users\\elena\\miniconda3\\envs\\pydata-book\\lib\\site-packages (from matplotlib!=3.6.1,>=3.4->seaborn) (23.1)\n",
      "Requirement already satisfied: pillow>=6.2.0 in c:\\users\\elena\\miniconda3\\envs\\pydata-book\\lib\\site-packages (from matplotlib!=3.6.1,>=3.4->seaborn) (10.0.1)\n",
      "Requirement already satisfied: pyparsing>=2.3.1 in c:\\users\\elena\\miniconda3\\envs\\pydata-book\\lib\\site-packages (from matplotlib!=3.6.1,>=3.4->seaborn) (3.0.9)\n",
      "Requirement already satisfied: python-dateutil>=2.7 in c:\\users\\elena\\miniconda3\\envs\\pydata-book\\lib\\site-packages (from matplotlib!=3.6.1,>=3.4->seaborn) (2.8.2)\n",
      "Requirement already satisfied: pytz>=2020.1 in c:\\users\\elena\\miniconda3\\envs\\pydata-book\\lib\\site-packages (from pandas>=1.2->seaborn) (2023.3.post1)\n",
      "Requirement already satisfied: tzdata>=2022.1 in c:\\users\\elena\\miniconda3\\envs\\pydata-book\\lib\\site-packages (from pandas>=1.2->seaborn) (2023.3)\n",
      "Requirement already satisfied: six>=1.5 in c:\\users\\elena\\miniconda3\\envs\\pydata-book\\lib\\site-packages (from python-dateutil>=2.7->matplotlib!=3.6.1,>=3.4->seaborn) (1.16.0)\n"
     ]
    }
   ],
   "source": [
    "import pandas as pd \n",
    "import numpy as np\n",
    "import os\n",
    "import matplotlib.pyplot as plt\n",
    "!pip install seaborn\n",
    "import seaborn as sns "
   ]
  },
  {
   "cell_type": "markdown",
   "id": "a03b52fd-41fb-4fa5-99e5-a44726ec281c",
   "metadata": {},
   "source": [
    "Secondly, we have to import csv file from computer to jupyter notebook:"
   ]
  },
  {
   "cell_type": "code",
   "execution_count": 2,
   "id": "a57c4f5c-f5fb-4561-9ee9-a3c2682fe17a",
   "metadata": {},
   "outputs": [
    {
     "data": {
      "text/html": [
       "<div>\n",
       "<style scoped>\n",
       "    .dataframe tbody tr th:only-of-type {\n",
       "        vertical-align: middle;\n",
       "    }\n",
       "\n",
       "    .dataframe tbody tr th {\n",
       "        vertical-align: top;\n",
       "    }\n",
       "\n",
       "    .dataframe thead th {\n",
       "        text-align: right;\n",
       "    }\n",
       "</style>\n",
       "<table border=\"1\" class=\"dataframe\">\n",
       "  <thead>\n",
       "    <tr style=\"text-align: right;\">\n",
       "      <th></th>\n",
       "      <th>order_gk</th>\n",
       "      <th>offer_id</th>\n",
       "    </tr>\n",
       "  </thead>\n",
       "  <tbody>\n",
       "    <tr>\n",
       "      <th>0</th>\n",
       "      <td>3000579625629</td>\n",
       "      <td>300050936206</td>\n",
       "    </tr>\n",
       "    <tr>\n",
       "      <th>1</th>\n",
       "      <td>3000627306450</td>\n",
       "      <td>300052064651</td>\n",
       "    </tr>\n",
       "    <tr>\n",
       "      <th>2</th>\n",
       "      <td>3000632920686</td>\n",
       "      <td>300052408812</td>\n",
       "    </tr>\n",
       "    <tr>\n",
       "      <th>3</th>\n",
       "      <td>3000632771725</td>\n",
       "      <td>300052393030</td>\n",
       "    </tr>\n",
       "    <tr>\n",
       "      <th>4</th>\n",
       "      <td>3000583467642</td>\n",
       "      <td>300051001196</td>\n",
       "    </tr>\n",
       "  </tbody>\n",
       "</table>\n",
       "</div>"
      ],
      "text/plain": [
       "        order_gk      offer_id\n",
       "0  3000579625629  300050936206\n",
       "1  3000627306450  300052064651\n",
       "2  3000632920686  300052408812\n",
       "3  3000632771725  300052393030\n",
       "4  3000583467642  300051001196"
      ]
     },
     "execution_count": 2,
     "metadata": {},
     "output_type": "execute_result"
    }
   ],
   "source": [
    "downloads_path = os.path.expanduser(\"~/Downloads/\")\n",
    "file_path = os.path.join(downloads_path, \"data_offers.csv\")\n",
    "df = pd.read_csv(file_path)\n",
    "df.head(5)"
   ]
  },
  {
   "cell_type": "markdown",
   "id": "9922cb61-b0b0-426a-8d95-385df0b9e820",
   "metadata": {},
   "source": [
    "First dataset contains :\n",
    "'order_gk' - order number, associated with the same column from the 'orders' data set.\n",
    "'offer_id' - ID of an offer. \n",
    "\n",
    "We don't need this data set for this project, as we work with data in generall, not individually with every order."
   ]
  },
  {
   "cell_type": "code",
   "execution_count": 3,
   "id": "12c2f3cb-6b63-405f-959d-4f704a354648",
   "metadata": {},
   "outputs": [
    {
     "data": {
      "text/html": [
       "<div>\n",
       "<style scoped>\n",
       "    .dataframe tbody tr th:only-of-type {\n",
       "        vertical-align: middle;\n",
       "    }\n",
       "\n",
       "    .dataframe tbody tr th {\n",
       "        vertical-align: top;\n",
       "    }\n",
       "\n",
       "    .dataframe thead th {\n",
       "        text-align: right;\n",
       "    }\n",
       "</style>\n",
       "<table border=\"1\" class=\"dataframe\">\n",
       "  <thead>\n",
       "    <tr style=\"text-align: right;\">\n",
       "      <th></th>\n",
       "      <th>order_datetime</th>\n",
       "      <th>origin_longitude</th>\n",
       "      <th>origin_latitude</th>\n",
       "      <th>m_order_eta</th>\n",
       "      <th>order_gk</th>\n",
       "      <th>order_status_key</th>\n",
       "      <th>is_driver_assigned_key</th>\n",
       "      <th>cancellations_time_in_seconds</th>\n",
       "    </tr>\n",
       "  </thead>\n",
       "  <tbody>\n",
       "    <tr>\n",
       "      <th>0</th>\n",
       "      <td>18:08:07</td>\n",
       "      <td>-0.978916</td>\n",
       "      <td>51.456173</td>\n",
       "      <td>60.0</td>\n",
       "      <td>3000583041974</td>\n",
       "      <td>4</td>\n",
       "      <td>1</td>\n",
       "      <td>198.0</td>\n",
       "    </tr>\n",
       "    <tr>\n",
       "      <th>1</th>\n",
       "      <td>20:57:32</td>\n",
       "      <td>-0.950385</td>\n",
       "      <td>51.456843</td>\n",
       "      <td>NaN</td>\n",
       "      <td>3000583116437</td>\n",
       "      <td>4</td>\n",
       "      <td>0</td>\n",
       "      <td>128.0</td>\n",
       "    </tr>\n",
       "    <tr>\n",
       "      <th>2</th>\n",
       "      <td>12:07:50</td>\n",
       "      <td>-0.969520</td>\n",
       "      <td>51.455544</td>\n",
       "      <td>477.0</td>\n",
       "      <td>3000582891479</td>\n",
       "      <td>4</td>\n",
       "      <td>1</td>\n",
       "      <td>46.0</td>\n",
       "    </tr>\n",
       "    <tr>\n",
       "      <th>3</th>\n",
       "      <td>13:50:20</td>\n",
       "      <td>-1.054671</td>\n",
       "      <td>51.460544</td>\n",
       "      <td>658.0</td>\n",
       "      <td>3000582941169</td>\n",
       "      <td>4</td>\n",
       "      <td>1</td>\n",
       "      <td>62.0</td>\n",
       "    </tr>\n",
       "    <tr>\n",
       "      <th>4</th>\n",
       "      <td>21:24:45</td>\n",
       "      <td>-0.967605</td>\n",
       "      <td>51.458236</td>\n",
       "      <td>NaN</td>\n",
       "      <td>3000583140877</td>\n",
       "      <td>9</td>\n",
       "      <td>0</td>\n",
       "      <td>NaN</td>\n",
       "    </tr>\n",
       "    <tr>\n",
       "      <th>5</th>\n",
       "      <td>21:21:23</td>\n",
       "      <td>-0.947011</td>\n",
       "      <td>51.456380</td>\n",
       "      <td>NaN</td>\n",
       "      <td>3000583117054</td>\n",
       "      <td>9</td>\n",
       "      <td>0</td>\n",
       "      <td>NaN</td>\n",
       "    </tr>\n",
       "    <tr>\n",
       "      <th>6</th>\n",
       "      <td>07:58:15</td>\n",
       "      <td>-0.955637</td>\n",
       "      <td>51.470372</td>\n",
       "      <td>NaN</td>\n",
       "      <td>3000582791789</td>\n",
       "      <td>9</td>\n",
       "      <td>0</td>\n",
       "      <td>NaN</td>\n",
       "    </tr>\n",
       "    <tr>\n",
       "      <th>7</th>\n",
       "      <td>07:53:46</td>\n",
       "      <td>-0.978230</td>\n",
       "      <td>51.454575</td>\n",
       "      <td>NaN</td>\n",
       "      <td>3000582791562</td>\n",
       "      <td>9</td>\n",
       "      <td>0</td>\n",
       "      <td>NaN</td>\n",
       "    </tr>\n",
       "    <tr>\n",
       "      <th>8</th>\n",
       "      <td>08:53:01</td>\n",
       "      <td>-1.052298</td>\n",
       "      <td>51.454308</td>\n",
       "      <td>NaN</td>\n",
       "      <td>3000582817606</td>\n",
       "      <td>9</td>\n",
       "      <td>0</td>\n",
       "      <td>NaN</td>\n",
       "    </tr>\n",
       "    <tr>\n",
       "      <th>9</th>\n",
       "      <td>06:33:52</td>\n",
       "      <td>-0.976216</td>\n",
       "      <td>51.433202</td>\n",
       "      <td>NaN</td>\n",
       "      <td>3000582765616</td>\n",
       "      <td>4</td>\n",
       "      <td>0</td>\n",
       "      <td>78.0</td>\n",
       "    </tr>\n",
       "    <tr>\n",
       "      <th>10</th>\n",
       "      <td>15:40:15</td>\n",
       "      <td>-0.934670</td>\n",
       "      <td>51.447065</td>\n",
       "      <td>NaN</td>\n",
       "      <td>3000582991062</td>\n",
       "      <td>4</td>\n",
       "      <td>0</td>\n",
       "      <td>167.0</td>\n",
       "    </tr>\n",
       "    <tr>\n",
       "      <th>11</th>\n",
       "      <td>20:59:35</td>\n",
       "      <td>-0.972735</td>\n",
       "      <td>51.452489</td>\n",
       "      <td>NaN</td>\n",
       "      <td>3000583116472</td>\n",
       "      <td>4</td>\n",
       "      <td>0</td>\n",
       "      <td>45.0</td>\n",
       "    </tr>\n",
       "    <tr>\n",
       "      <th>12</th>\n",
       "      <td>06:25:31</td>\n",
       "      <td>-0.958791</td>\n",
       "      <td>51.459481</td>\n",
       "      <td>NaN</td>\n",
       "      <td>3000582765488</td>\n",
       "      <td>4</td>\n",
       "      <td>0</td>\n",
       "      <td>79.0</td>\n",
       "    </tr>\n",
       "    <tr>\n",
       "      <th>13</th>\n",
       "      <td>16:55:28</td>\n",
       "      <td>-0.950683</td>\n",
       "      <td>51.451368</td>\n",
       "      <td>538.0</td>\n",
       "      <td>3000583016613</td>\n",
       "      <td>4</td>\n",
       "      <td>1</td>\n",
       "      <td>188.0</td>\n",
       "    </tr>\n",
       "    <tr>\n",
       "      <th>14</th>\n",
       "      <td>00:59:26</td>\n",
       "      <td>-0.937006</td>\n",
       "      <td>51.448696</td>\n",
       "      <td>179.0</td>\n",
       "      <td>3000582566041</td>\n",
       "      <td>4</td>\n",
       "      <td>1</td>\n",
       "      <td>316.0</td>\n",
       "    </tr>\n",
       "    <tr>\n",
       "      <th>15</th>\n",
       "      <td>00:04:16</td>\n",
       "      <td>-0.974519</td>\n",
       "      <td>51.454603</td>\n",
       "      <td>NaN</td>\n",
       "      <td>3000582541301</td>\n",
       "      <td>9</td>\n",
       "      <td>0</td>\n",
       "      <td>NaN</td>\n",
       "    </tr>\n",
       "    <tr>\n",
       "      <th>16</th>\n",
       "      <td>08:49:32</td>\n",
       "      <td>-1.011756</td>\n",
       "      <td>51.456498</td>\n",
       "      <td>NaN</td>\n",
       "      <td>3000582817413</td>\n",
       "      <td>9</td>\n",
       "      <td>0</td>\n",
       "      <td>NaN</td>\n",
       "    </tr>\n",
       "    <tr>\n",
       "      <th>17</th>\n",
       "      <td>08:18:52</td>\n",
       "      <td>-0.940321</td>\n",
       "      <td>51.421571</td>\n",
       "      <td>NaN</td>\n",
       "      <td>3000582792866</td>\n",
       "      <td>4</td>\n",
       "      <td>0</td>\n",
       "      <td>183.0</td>\n",
       "    </tr>\n",
       "    <tr>\n",
       "      <th>18</th>\n",
       "      <td>08:24:56</td>\n",
       "      <td>-0.966304</td>\n",
       "      <td>51.448351</td>\n",
       "      <td>NaN</td>\n",
       "      <td>3000582815594</td>\n",
       "      <td>4</td>\n",
       "      <td>0</td>\n",
       "      <td>120.0</td>\n",
       "    </tr>\n",
       "    <tr>\n",
       "      <th>19</th>\n",
       "      <td>08:49:02</td>\n",
       "      <td>-0.963172</td>\n",
       "      <td>51.454195</td>\n",
       "      <td>NaN</td>\n",
       "      <td>3000582817399</td>\n",
       "      <td>9</td>\n",
       "      <td>0</td>\n",
       "      <td>NaN</td>\n",
       "    </tr>\n",
       "    <tr>\n",
       "      <th>20</th>\n",
       "      <td>13:21:15</td>\n",
       "      <td>-0.978916</td>\n",
       "      <td>51.456173</td>\n",
       "      <td>60.0</td>\n",
       "      <td>3000582916858</td>\n",
       "      <td>4</td>\n",
       "      <td>1</td>\n",
       "      <td>475.0</td>\n",
       "    </tr>\n",
       "    <tr>\n",
       "      <th>21</th>\n",
       "      <td>12:57:52</td>\n",
       "      <td>-0.933755</td>\n",
       "      <td>51.446834</td>\n",
       "      <td>117.0</td>\n",
       "      <td>3000582916315</td>\n",
       "      <td>4</td>\n",
       "      <td>1</td>\n",
       "      <td>41.0</td>\n",
       "    </tr>\n",
       "    <tr>\n",
       "      <th>22</th>\n",
       "      <td>08:37:53</td>\n",
       "      <td>-0.972037</td>\n",
       "      <td>51.456781</td>\n",
       "      <td>898.0</td>\n",
       "      <td>3000582816590</td>\n",
       "      <td>4</td>\n",
       "      <td>1</td>\n",
       "      <td>101.0</td>\n",
       "    </tr>\n",
       "    <tr>\n",
       "      <th>23</th>\n",
       "      <td>07:17:19</td>\n",
       "      <td>-0.971389</td>\n",
       "      <td>51.449270</td>\n",
       "      <td>NaN</td>\n",
       "      <td>3000582766394</td>\n",
       "      <td>4</td>\n",
       "      <td>0</td>\n",
       "      <td>93.0</td>\n",
       "    </tr>\n",
       "    <tr>\n",
       "      <th>24</th>\n",
       "      <td>14:08:23</td>\n",
       "      <td>-0.973763</td>\n",
       "      <td>51.458671</td>\n",
       "      <td>NaN</td>\n",
       "      <td>3000632271478</td>\n",
       "      <td>4</td>\n",
       "      <td>0</td>\n",
       "      <td>117.0</td>\n",
       "    </tr>\n",
       "  </tbody>\n",
       "</table>\n",
       "</div>"
      ],
      "text/plain": [
       "   order_datetime  origin_longitude  origin_latitude  m_order_eta  \\\n",
       "0        18:08:07         -0.978916        51.456173         60.0   \n",
       "1        20:57:32         -0.950385        51.456843          NaN   \n",
       "2        12:07:50         -0.969520        51.455544        477.0   \n",
       "3        13:50:20         -1.054671        51.460544        658.0   \n",
       "4        21:24:45         -0.967605        51.458236          NaN   \n",
       "5        21:21:23         -0.947011        51.456380          NaN   \n",
       "6        07:58:15         -0.955637        51.470372          NaN   \n",
       "7        07:53:46         -0.978230        51.454575          NaN   \n",
       "8        08:53:01         -1.052298        51.454308          NaN   \n",
       "9        06:33:52         -0.976216        51.433202          NaN   \n",
       "10       15:40:15         -0.934670        51.447065          NaN   \n",
       "11       20:59:35         -0.972735        51.452489          NaN   \n",
       "12       06:25:31         -0.958791        51.459481          NaN   \n",
       "13       16:55:28         -0.950683        51.451368        538.0   \n",
       "14       00:59:26         -0.937006        51.448696        179.0   \n",
       "15       00:04:16         -0.974519        51.454603          NaN   \n",
       "16       08:49:32         -1.011756        51.456498          NaN   \n",
       "17       08:18:52         -0.940321        51.421571          NaN   \n",
       "18       08:24:56         -0.966304        51.448351          NaN   \n",
       "19       08:49:02         -0.963172        51.454195          NaN   \n",
       "20       13:21:15         -0.978916        51.456173         60.0   \n",
       "21       12:57:52         -0.933755        51.446834        117.0   \n",
       "22       08:37:53         -0.972037        51.456781        898.0   \n",
       "23       07:17:19         -0.971389        51.449270          NaN   \n",
       "24       14:08:23         -0.973763        51.458671          NaN   \n",
       "\n",
       "         order_gk  order_status_key  is_driver_assigned_key  \\\n",
       "0   3000583041974                 4                       1   \n",
       "1   3000583116437                 4                       0   \n",
       "2   3000582891479                 4                       1   \n",
       "3   3000582941169                 4                       1   \n",
       "4   3000583140877                 9                       0   \n",
       "5   3000583117054                 9                       0   \n",
       "6   3000582791789                 9                       0   \n",
       "7   3000582791562                 9                       0   \n",
       "8   3000582817606                 9                       0   \n",
       "9   3000582765616                 4                       0   \n",
       "10  3000582991062                 4                       0   \n",
       "11  3000583116472                 4                       0   \n",
       "12  3000582765488                 4                       0   \n",
       "13  3000583016613                 4                       1   \n",
       "14  3000582566041                 4                       1   \n",
       "15  3000582541301                 9                       0   \n",
       "16  3000582817413                 9                       0   \n",
       "17  3000582792866                 4                       0   \n",
       "18  3000582815594                 4                       0   \n",
       "19  3000582817399                 9                       0   \n",
       "20  3000582916858                 4                       1   \n",
       "21  3000582916315                 4                       1   \n",
       "22  3000582816590                 4                       1   \n",
       "23  3000582766394                 4                       0   \n",
       "24  3000632271478                 4                       0   \n",
       "\n",
       "    cancellations_time_in_seconds  \n",
       "0                           198.0  \n",
       "1                           128.0  \n",
       "2                            46.0  \n",
       "3                            62.0  \n",
       "4                             NaN  \n",
       "5                             NaN  \n",
       "6                             NaN  \n",
       "7                             NaN  \n",
       "8                             NaN  \n",
       "9                            78.0  \n",
       "10                          167.0  \n",
       "11                           45.0  \n",
       "12                           79.0  \n",
       "13                          188.0  \n",
       "14                          316.0  \n",
       "15                            NaN  \n",
       "16                            NaN  \n",
       "17                          183.0  \n",
       "18                          120.0  \n",
       "19                            NaN  \n",
       "20                          475.0  \n",
       "21                           41.0  \n",
       "22                          101.0  \n",
       "23                           93.0  \n",
       "24                          117.0  "
      ]
     },
     "execution_count": 3,
     "metadata": {},
     "output_type": "execute_result"
    }
   ],
   "source": [
    "file_path2 = os.path.join(downloads_path, \"data_orders.csv\")\n",
    "df1 = pd.read_csv(file_path2)\n",
    "df1.head(25)"
   ]
  },
  {
   "cell_type": "markdown",
   "id": "ad98b616-50c1-42d7-9003-4ef04540461a",
   "metadata": {},
   "source": [
    "**order_datetime - time of the order\r",
    "**\n",
    "origin_longitud**e - longitude of the order**\r\n",
    "origin_latitu**de - latitude of the orde**r\r\n",
    "m_order_**eta - time before order arriv**al\r\n",
    "orde**r_gk - order num**ber\r\n",
    "order_statu**s_key - status, an enumeration consisting of the following mapp    ing:\r\n",
    "4 - cancelled by cl    ient,\r\n",
    "9 - cancelled by system, i.e., a **reject\r\n",
    "is_driver_assi**gned_key - whether a driver has been a**ssigned\r\n",
    "cancellation_time_i**n_seconds - how many seconds passed before cancellation"
   ]
  },
  {
   "cell_type": "markdown",
   "id": "a581e417-5160-4476-a2fb-8238bd219ffe",
   "metadata": {},
   "source": [
    "### TASK 1 "
   ]
  },
  {
   "cell_type": "code",
   "execution_count": 4,
   "id": "ccd33722-4f6f-43df-9e00-722a26cb414d",
   "metadata": {},
   "outputs": [
    {
     "data": {
      "text/html": [
       "<div>\n",
       "<style scoped>\n",
       "    .dataframe tbody tr th:only-of-type {\n",
       "        vertical-align: middle;\n",
       "    }\n",
       "\n",
       "    .dataframe tbody tr th {\n",
       "        vertical-align: top;\n",
       "    }\n",
       "\n",
       "    .dataframe thead th {\n",
       "        text-align: right;\n",
       "    }\n",
       "</style>\n",
       "<table border=\"1\" class=\"dataframe\">\n",
       "  <thead>\n",
       "    <tr style=\"text-align: right;\">\n",
       "      <th></th>\n",
       "      <th>origin_longitude</th>\n",
       "      <th>origin_latitude</th>\n",
       "      <th>m_order_eta</th>\n",
       "      <th>order_gk</th>\n",
       "      <th>order_status_key</th>\n",
       "      <th>is_driver_assigned_key</th>\n",
       "      <th>cancellations_time_in_seconds</th>\n",
       "    </tr>\n",
       "  </thead>\n",
       "  <tbody>\n",
       "    <tr>\n",
       "      <th>count</th>\n",
       "      <td>10716.000000</td>\n",
       "      <td>10716.000000</td>\n",
       "      <td>2814.000000</td>\n",
       "      <td>1.071600e+04</td>\n",
       "      <td>10716.000000</td>\n",
       "      <td>10716.000000</td>\n",
       "      <td>7307.000000</td>\n",
       "    </tr>\n",
       "    <tr>\n",
       "      <th>mean</th>\n",
       "      <td>-0.964323</td>\n",
       "      <td>51.450541</td>\n",
       "      <td>441.415423</td>\n",
       "      <td>3.000598e+12</td>\n",
       "      <td>5.590612</td>\n",
       "      <td>0.262598</td>\n",
       "      <td>157.892021</td>\n",
       "    </tr>\n",
       "    <tr>\n",
       "      <th>std</th>\n",
       "      <td>0.022818</td>\n",
       "      <td>0.011984</td>\n",
       "      <td>288.006379</td>\n",
       "      <td>2.396261e+07</td>\n",
       "      <td>2.328845</td>\n",
       "      <td>0.440066</td>\n",
       "      <td>213.366963</td>\n",
       "    </tr>\n",
       "    <tr>\n",
       "      <th>min</th>\n",
       "      <td>-1.066957</td>\n",
       "      <td>51.399323</td>\n",
       "      <td>60.000000</td>\n",
       "      <td>3.000550e+12</td>\n",
       "      <td>4.000000</td>\n",
       "      <td>0.000000</td>\n",
       "      <td>3.000000</td>\n",
       "    </tr>\n",
       "    <tr>\n",
       "      <th>25%</th>\n",
       "      <td>-0.974363</td>\n",
       "      <td>51.444643</td>\n",
       "      <td>233.000000</td>\n",
       "      <td>3.000583e+12</td>\n",
       "      <td>4.000000</td>\n",
       "      <td>0.000000</td>\n",
       "      <td>45.000000</td>\n",
       "    </tr>\n",
       "    <tr>\n",
       "      <th>50%</th>\n",
       "      <td>-0.966386</td>\n",
       "      <td>51.451972</td>\n",
       "      <td>368.500000</td>\n",
       "      <td>3.000595e+12</td>\n",
       "      <td>4.000000</td>\n",
       "      <td>0.000000</td>\n",
       "      <td>98.000000</td>\n",
       "    </tr>\n",
       "    <tr>\n",
       "      <th>75%</th>\n",
       "      <td>-0.949605</td>\n",
       "      <td>51.456725</td>\n",
       "      <td>653.000000</td>\n",
       "      <td>3.000623e+12</td>\n",
       "      <td>9.000000</td>\n",
       "      <td>1.000000</td>\n",
       "      <td>187.500000</td>\n",
       "    </tr>\n",
       "    <tr>\n",
       "      <th>max</th>\n",
       "      <td>-0.867088</td>\n",
       "      <td>51.496169</td>\n",
       "      <td>1559.000000</td>\n",
       "      <td>3.000633e+12</td>\n",
       "      <td>9.000000</td>\n",
       "      <td>1.000000</td>\n",
       "      <td>4303.000000</td>\n",
       "    </tr>\n",
       "  </tbody>\n",
       "</table>\n",
       "</div>"
      ],
      "text/plain": [
       "       origin_longitude  origin_latitude  m_order_eta      order_gk  \\\n",
       "count      10716.000000     10716.000000  2814.000000  1.071600e+04   \n",
       "mean          -0.964323        51.450541   441.415423  3.000598e+12   \n",
       "std            0.022818         0.011984   288.006379  2.396261e+07   \n",
       "min           -1.066957        51.399323    60.000000  3.000550e+12   \n",
       "25%           -0.974363        51.444643   233.000000  3.000583e+12   \n",
       "50%           -0.966386        51.451972   368.500000  3.000595e+12   \n",
       "75%           -0.949605        51.456725   653.000000  3.000623e+12   \n",
       "max           -0.867088        51.496169  1559.000000  3.000633e+12   \n",
       "\n",
       "       order_status_key  is_driver_assigned_key  cancellations_time_in_seconds  \n",
       "count      10716.000000            10716.000000                    7307.000000  \n",
       "mean           5.590612                0.262598                     157.892021  \n",
       "std            2.328845                0.440066                     213.366963  \n",
       "min            4.000000                0.000000                       3.000000  \n",
       "25%            4.000000                0.000000                      45.000000  \n",
       "50%            4.000000                0.000000                      98.000000  \n",
       "75%            9.000000                1.000000                     187.500000  \n",
       "max            9.000000                1.000000                    4303.000000  "
      ]
     },
     "execution_count": 4,
     "metadata": {},
     "output_type": "execute_result"
    }
   ],
   "source": [
    "# Look closely at summary data about data set \n",
    "df1.describe()"
   ]
  },
  {
   "cell_type": "code",
   "execution_count": 5,
   "id": "6c168d1e-fb1a-4272-982d-bbcf686c943e",
   "metadata": {},
   "outputs": [
    {
     "data": {
      "text/plain": [
       "is_driver_assigned_key\n",
       "0    4496\n",
       "1    2811\n",
       "Name: count, dtype: int64"
      ]
     },
     "execution_count": 5,
     "metadata": {},
     "output_type": "execute_result"
    }
   ],
   "source": [
    "# Filter data for only client cancellation\n",
    "client_c = df1[df1['order_status_key'] == 4]\n",
    "client_c['is_driver_assigned_key'].value_counts()"
   ]
  },
  {
   "cell_type": "code",
   "execution_count": 6,
   "id": "81190f01-c5ef-4bde-8faf-15cbd14e491a",
   "metadata": {},
   "outputs": [
    {
     "data": {
      "text/plain": [
       "is_driver_assigned_key\n",
       "0    3406\n",
       "1       3\n",
       "Name: count, dtype: int64"
      ]
     },
     "execution_count": 6,
     "metadata": {},
     "output_type": "execute_result"
    }
   ],
   "source": [
    "# Filter data for only system cancellation \n",
    "system_c = df1[df1['order_status_key'] == 9]\n",
    "system_c['is_driver_assigned_key'].value_counts()"
   ]
  },
  {
   "cell_type": "code",
   "execution_count": 7,
   "id": "2ce3cbff-a8b8-4695-be80-91518be8fff7",
   "metadata": {},
   "outputs": [
    {
     "data": {
      "image/png": "[encoded data removed]",
      "text/plain": [
       "<Figure size 200x200 with 1 Axes>"
      ]
     },
     "metadata": {},
     "output_type": "display_data"
    }
   ],
   "source": [
    "# Plot that represents us how many cancellation was made by system and by client.\n",
    "category_of_cancellation = df1['order_status_key'].value_counts()\n",
    "category = ['Client cancellation', 'System cancellation']\n",
    "\n",
    "plt.figure(figsize=(2, 2))\n",
    "plt.pie(category_of_cancellation,labels = category, autopct='%1.1f%%', startangle=140)\n",
    "plt.title('Cancellation count')\n",
    "plt.axis('equal')  \n",
    "plt.show()"
   ]
  },
  {
   "cell_type": "code",
   "execution_count": 8,
   "id": "ad0c34d2-1166-4694-8b57-01e07721048a",
   "metadata": {},
   "outputs": [
    {
     "data": {
      "image/png": "[encoded data removed]",
      "text/plain": [
       "<Figure size 500x300 with 1 Axes>"
      ]
     },
     "metadata": {},
     "output_type": "display_data"
    }
   ],
   "source": [
    "# Barplot that shows Number of cancellation by cancellation category before and after assigning the key.\n",
    "data = df1.groupby(['order_status_key'])['is_driver_assigned_key'].value_counts().reset_index(name = 'counts')\n",
    "data['order_status_key'] = data['order_status_key'].replace({4: 'Client',\n",
    "        9: 'System'})\n",
    "plt.figure(figsize=(5,3))\n",
    "sns.barplot(data= data,\n",
    "           x = 'order_status_key',\n",
    "           y = 'counts',\n",
    "           hue = 'is_driver_assigned_key')\n",
    "plt.legend(title = 'Assigning key')\n",
    "plt.xlabel('Before/After assigning a key')\n",
    "plt.ylabel('Number of cancellations')\n",
    "plt.title('Cancellation category')\n",
    "plt.show()"
   ]
  },
  {
   "cell_type": "markdown",
   "id": "cb824c79-0ad3-4dc6-a349-e2bc7a54c684",
   "metadata": {},
   "source": [
    "On this graph we can clearly see that we have a way more Client cancellation : 7307, or  4496 -  before assigning a key , 2811 - after assigning. System cancellation - 3409, only 3 system cancellations after assigning a key."
   ]
  },
  {
   "cell_type": "markdown",
   "id": "9f446275-4f96-477e-be1d-460f6703bc3f",
   "metadata": {},
   "source": [
    "### Task 2 "
   ]
  },
  {
   "cell_type": "code",
   "execution_count": 20,
   "id": "2cca5489-c2b7-4b64-b8a4-45178d310912",
   "metadata": {},
   "outputs": [],
   "source": [
    "# Change datatype and extract hour from  'order_datetime'\n",
    "df1['order_datetime'] = pd.to_datetime(df1['order_datetime'])\n",
    "df1['hour'] = df1['order_datetime'].dt.hour "
   ]
  },
  {
   "cell_type": "code",
   "execution_count": 10,
   "id": "bdfe31af-aaef-42d1-8215-a9311a017390",
   "metadata": {},
   "outputs": [
    {
     "data": {
      "text/plain": [
       "Text(0.5, 1.0, 'Distribution of Cancellations by Hour')"
      ]
     },
     "execution_count": 10,
     "metadata": {},
     "output_type": "execute_result"
    },
    {
     "data": {
      "image/png": "[encoded data removed]",
      "text/plain": [
       "<Figure size 1000x400 with 1 Axes>"
      ]
     },
     "metadata": {},
     "output_type": "display_data"
    }
   ],
   "source": [
    "# Plot of distribution of failed orders by hours\n",
    "hour_cancellation = df1['hour'].value_counts().reset_index().sort_values('hour')\n",
    "plt.figure(figsize=(10,4))\n",
    "sns.barplot(data = hour_cancellation, \n",
    "             x = 'hour', \n",
    "             y = 'count',\n",
    "           )\n",
    "plt.xlabel('Hour')\n",
    "plt.ylabel('Count')\n",
    "plt.title('Distribution of Cancellations by Hour')"
   ]
  },
  {
   "cell_type": "markdown",
   "id": "dd1111de-5a3b-49d0-aa2b-1fa6e0ee4a00",
   "metadata": {},
   "source": [
    "The most of the cancellations contain 0 and 8 a.m, 9,10,11 p.m."
   ]
  },
  {
   "cell_type": "code",
   "execution_count": 11,
   "id": "029fecc1-8dd6-4f90-97cb-5eef82505f39",
   "metadata": {},
   "outputs": [
    {
     "data": {
      "image/png": "[encoded data removed]",
      "text/plain": [
       "<Figure size 1000x400 with 1 Axes>"
      ]
     },
     "metadata": {},
     "output_type": "display_data"
    }
   ],
   "source": [
    "# Same plot representing distribution of failed orders by hours for each category of cancellation.\n",
    "hour_can = df1.groupby(['hour', 'order_status_key']).size().reset_index(name = 'counts')\n",
    "hour_can\n",
    "plt.figure(figsize=(10,4))\n",
    "sns.barplot(data = hour_can, \n",
    "             x = 'hour', \n",
    "             y = 'counts',\n",
    "           hue = 'order_status_key',\n",
    "           palette=['green', 'orange'])\n",
    "plt.xlabel('Hour')\n",
    "plt.ylabel('Count')\n",
    "plt.title('Distribution of Cancellations by Hour for each category')\n",
    "plt.legend(title = 'Category of cancellation')\n",
    "plt.show()"
   ]
  },
  {
   "cell_type": "markdown",
   "id": "94071f36-ee2d-4155-8cfd-21d3c9e9df28",
   "metadata": {},
   "source": [
    "Conclusion : the biggest number of system cancellations(9) are at 0, 2, 3, 8 a.m, 9,10 and 11 p.m. \n",
    "The biggest number of customer cancellations(4) are at 0,1,2,3,7,8,9 a.m. and 5,8,9,10,11 p.m. \n",
    "7,8,9 a.m. - time when people go to work and roads are quite busy.\n",
    "5 p.m - time when people go from work\n",
    "11 p.m. - 3 a.m. - time when people take taxi from party."
   ]
  },
  {
   "cell_type": "markdown",
   "id": "07708e00-6bbd-4236-b4c9-6551c4bec78f",
   "metadata": {},
   "source": [
    "### Task 3"
   ]
  },
  {
   "cell_type": "code",
   "execution_count": 12,
   "id": "c15b786e-0034-4ee8-8b08-c93efebd02da",
   "metadata": {},
   "outputs": [
    {
     "data": {
      "text/html": [
       "<div>\n",
       "<style scoped>\n",
       "    .dataframe tbody tr th:only-of-type {\n",
       "        vertical-align: middle;\n",
       "    }\n",
       "\n",
       "    .dataframe tbody tr th {\n",
       "        vertical-align: top;\n",
       "    }\n",
       "\n",
       "    .dataframe thead th {\n",
       "        text-align: right;\n",
       "    }\n",
       "</style>\n",
       "<table border=\"1\" class=\"dataframe\">\n",
       "  <thead>\n",
       "    <tr style=\"text-align: right;\">\n",
       "      <th></th>\n",
       "      <th>hour</th>\n",
       "      <th>order_status_key</th>\n",
       "      <th>is_driver_assigned_key</th>\n",
       "      <th>cancellations_time_in_seconds</th>\n",
       "    </tr>\n",
       "  </thead>\n",
       "  <tbody>\n",
       "    <tr>\n",
       "      <th>0</th>\n",
       "      <td>0</td>\n",
       "      <td>4</td>\n",
       "      <td>0</td>\n",
       "      <td>111.557047</td>\n",
       "    </tr>\n",
       "    <tr>\n",
       "      <th>1</th>\n",
       "      <td>0</td>\n",
       "      <td>4</td>\n",
       "      <td>1</td>\n",
       "      <td>293.616667</td>\n",
       "    </tr>\n",
       "    <tr>\n",
       "      <th>4</th>\n",
       "      <td>1</td>\n",
       "      <td>4</td>\n",
       "      <td>0</td>\n",
       "      <td>98.132420</td>\n",
       "    </tr>\n",
       "    <tr>\n",
       "      <th>5</th>\n",
       "      <td>1</td>\n",
       "      <td>4</td>\n",
       "      <td>1</td>\n",
       "      <td>247.715909</td>\n",
       "    </tr>\n",
       "    <tr>\n",
       "      <th>7</th>\n",
       "      <td>2</td>\n",
       "      <td>4</td>\n",
       "      <td>0</td>\n",
       "      <td>106.438819</td>\n",
       "    </tr>\n",
       "  </tbody>\n",
       "</table>\n",
       "</div>"
      ],
      "text/plain": [
       "   hour  order_status_key  is_driver_assigned_key  \\\n",
       "0     0                 4                       0   \n",
       "1     0                 4                       1   \n",
       "4     1                 4                       0   \n",
       "5     1                 4                       1   \n",
       "7     2                 4                       0   \n",
       "\n",
       "   cancellations_time_in_seconds  \n",
       "0                     111.557047  \n",
       "1                     293.616667  \n",
       "4                      98.132420  \n",
       "5                     247.715909  \n",
       "7                     106.438819  "
      ]
     },
     "execution_count": 12,
     "metadata": {},
     "output_type": "execute_result"
    }
   ],
   "source": [
    "# Create a new df, where we group by hour, category of cancellation and before/after assigning a key to driver. \n",
    "#Then calculate how much time in average passed before order cancellation\n",
    "avg_can = df1.groupby(['hour','order_status_key','is_driver_assigned_key']).mean(['cancellations_time_in_seconds']).reset_index()[['hour','order_status_key','is_driver_assigned_key', 'cancellations_time_in_seconds']]\n",
    "avg_can.dropna(subset = 'cancellations_time_in_seconds').head(5)\n",
    "# Drop all missing values from cancellations_time_in_seconds. As we did it, all data from category\n",
    "#of system cancellation vanished, so we can conclude, that system cancellation happens after a couple of seconds after placing an order.\n"
   ]
  },
  {
   "cell_type": "code",
   "execution_count": 13,
   "id": "74c315c5-ad3f-421a-8f3b-3c6e7724133f",
   "metadata": {},
   "outputs": [
    {
     "data": {
      "text/plain": [
       "<Axes: xlabel='cancellations_time_in_seconds'>"
      ]
     },
     "execution_count": 13,
     "metadata": {},
     "output_type": "execute_result"
    },
    {
     "data": {
      "image/png": "[encoded data removed]",
      "text/plain": [
       "<Figure size 500x100 with 1 Axes>"
      ]
     },
     "metadata": {},
     "output_type": "display_data"
    }
   ],
   "source": [
    "# Boxplot for detecting any outliers. We can conclude, that we don't have outliers,\n",
    "# and medium cancellation is 160 seconds.\n",
    "plt.figure(figsize = (5,1))\n",
    "sns.boxplot(x = avg_can['cancellations_time_in_seconds'],fliersize=1)"
   ]
  },
  {
   "cell_type": "markdown",
   "id": "1d4381e5-57a5-4b39-a403-f6dfbedda90f",
   "metadata": {},
   "source": [
    "Outliers: boxplot shows as that there is no outliers, medium cancellation time after ordering a taxi is 160 seconds , or 2 minutes and 40 seconds\n"
   ]
  },
  {
   "cell_type": "code",
   "execution_count": 14,
   "id": "c8f4b026-040d-4b5b-b97a-8d29392de811",
   "metadata": {},
   "outputs": [
    {
     "data": {
      "image/png": "[encoded data removed]",
      "text/plain": [
       "<Figure size 800x300 with 1 Axes>"
      ]
     },
     "metadata": {},
     "output_type": "display_data"
    }
   ],
   "source": [
    "plt.figure(figsize=(8,3))\n",
    "sns.barplot(data = avg_can, \n",
    "             x = 'hour', \n",
    "             y = 'cancellations_time_in_seconds',\n",
    "           hue = 'is_driver_assigned_key',\n",
    "           palette=['green', 'orange'])\n",
    "plt.xlabel('Hour')\n",
    "plt.ylabel('Cancelletion in seconds')\n",
    "plt.title('Cancellations by Hour')\n",
    "plt.legend(title = 'Assigning key')\n",
    "plt.show()"
   ]
  },
  {
   "cell_type": "markdown",
   "id": "8fe45a82-3827-4409-b405-3a96b2d919be",
   "metadata": {},
   "source": [
    "Plot shows the average time to cancellation with and without driver, by the hour. In general, we can see, that people cancel faster when a driver hasn't been assigned,  107 seconds, while cancelling when driver have been assigned takes 243 seconds."
   ]
  },
  {
   "cell_type": "markdown",
   "id": "e42a527f-2e2c-4cc9-b947-74ddadc29654",
   "metadata": {},
   "source": [
    "### Task 4 "
   ]
  },
  {
   "cell_type": "code",
   "execution_count": 15,
   "id": "50396d36-097a-4502-abca-1fd518972638",
   "metadata": {},
   "outputs": [],
   "source": [
    "# Exlude all records that has missing values and group by hour average eta (time before order arriving)\n",
    "df1.dropna(subset = 'm_order_eta')\n",
    "eta = df1.groupby(['hour']).mean(['m_order_eta'])"
   ]
  },
  {
   "cell_type": "code",
   "execution_count": 16,
   "id": "e9f6b31d-4f15-433c-91ec-25562f43da0c",
   "metadata": {},
   "outputs": [
    {
     "data": {
      "image/png": "[encoded data removed]",
      "text/plain": [
       "<Figure size 800x300 with 1 Axes>"
      ]
     },
     "metadata": {},
     "output_type": "display_data"
    }
   ],
   "source": [
    "plt.figure(figsize=(8,3))\n",
    "sns.barplot(data = eta, \n",
    "             x = 'hour', \n",
    "             y = 'm_order_eta',)\n",
    "plt.xlabel('Hour')\n",
    "plt.ylabel('Time before arrival')\n",
    "plt.title('Time before order arrival')\n",
    "plt.show()"
   ]
  },
  {
   "cell_type": "markdown",
   "id": "23f03b26-b3ee-45a7-bd22-ef747caed001",
   "metadata": {},
   "source": [
    "Conclusion: In average people have to wait for 414 seconds it is almost 7 minutes for order arrival. Time of awaiting a bit longer at 7,8,9 a.m. and 5 p.m. it takes from 8.3 up to 10.3 minutes of "
   ]
  },
  {
   "cell_type": "markdown",
   "id": "69bb2da1-8848-4db6-98f2-6a968e1b1acd",
   "metadata": {},
   "source": [
    "### Task 4"
   ]
  },
  {
   "cell_type": "code",
   "execution_count": 17,
   "id": "c49726a8-ed8a-4e41-87ea-eb54ef9bce6a",
   "metadata": {},
   "outputs": [
    {
     "name": "stdout",
     "output_type": "stream",
     "text": [
      "Requirement already satisfied: h3 in c:\\users\\elena\\miniconda3\\envs\\pydata-book\\lib\\site-packages (3.7.6)\n",
      "Requirement already satisfied: folium in c:\\users\\elena\\miniconda3\\envs\\pydata-book\\lib\\site-packages (0.15.1)\n",
      "Requirement already satisfied: branca>=0.6.0 in c:\\users\\elena\\miniconda3\\envs\\pydata-book\\lib\\site-packages (from folium) (0.7.1)\n",
      "Requirement already satisfied: jinja2>=2.9 in c:\\users\\elena\\miniconda3\\envs\\pydata-book\\lib\\site-packages (from folium) (3.1.2)\n",
      "Requirement already satisfied: numpy in c:\\users\\elena\\miniconda3\\envs\\pydata-book\\lib\\site-packages (from folium) (1.26.3)\n",
      "Requirement already satisfied: requests in c:\\users\\elena\\miniconda3\\envs\\pydata-book\\lib\\site-packages (from folium) (2.31.0)\n",
      "Requirement already satisfied: xyzservices in c:\\users\\elena\\miniconda3\\envs\\pydata-book\\lib\\site-packages (from folium) (2023.10.1)\n",
      "Requirement already satisfied: MarkupSafe>=2.0 in c:\\users\\elena\\miniconda3\\envs\\pydata-book\\lib\\site-packages (from jinja2>=2.9->folium) (2.1.3)\n",
      "Requirement already satisfied: charset-normalizer<4,>=2 in c:\\users\\elena\\miniconda3\\envs\\pydata-book\\lib\\site-packages (from requests->folium) (2.0.4)\n",
      "Requirement already satisfied: idna<4,>=2.5 in c:\\users\\elena\\miniconda3\\envs\\pydata-book\\lib\\site-packages (from requests->folium) (3.4)\n",
      "Requirement already satisfied: urllib3<3,>=1.21.1 in c:\\users\\elena\\miniconda3\\envs\\pydata-book\\lib\\site-packages (from requests->folium) (1.26.18)\n",
      "Requirement already satisfied: certifi>=2017.4.17 in c:\\users\\elena\\miniconda3\\envs\\pydata-book\\lib\\site-packages (from requests->folium) (2023.11.17)\n",
      "Note: you may need to restart the kernel to use updated packages.\n"
     ]
    }
   ],
   "source": [
    "pip install h3 folium"
   ]
  },
  {
   "cell_type": "code",
   "execution_count": 18,
   "id": "2099db03-7522-4174-98ee-79765efb04d1",
   "metadata": {},
   "outputs": [],
   "source": [
    "import h3\n",
    "import folium"
   ]
  },
  {
   "cell_type": "code",
   "execution_count": 19,
   "id": "e0a0a08b-0ae8-43a2-827d-0fe4e81ba9f5",
   "metadata": {},
   "outputs": [
    {
     "data": {
      "text/html": [
       "\n",
       "        <iframe\n",
       "            width=\"700\"\n",
       "            height=\"600\"\n",
       "            src=\"map.html\"\n",
       "            frameborder=\"0\"\n",
       "            allowfullscreen\n",
       "            \n",
       "        ></iframe>\n",
       "        "
      ],
      "text/plain": [
       "<IPython.lib.display.IFrame at 0x259774c9840>"
      ]
     },
     "execution_count": 19,
     "metadata": {},
     "output_type": "execute_result"
    }
   ],
   "source": [
    "from IPython.display import IFrame\n",
    "# Calculate the H3 indexes for each order location (using resolution 8)\n",
    "df1['h3_index'] = df1.apply(lambda row: h3.geo_to_h3(row['origin_latitude'], row['origin_longitude'], 8), axis=1)\n",
    "# Count the number of orders within each H3 index\n",
    "order_counts = df1['h3_index'].value_counts().reset_index()\n",
    "order_counts.columns = ['h3_index', 'order_count']\n",
    "# Sort the H3 indexes by the number of orders\n",
    "order_counts = order_counts.sort_values(by='order_count', ascending=False)\n",
    "# Calculate the cumulative sum of order counts\n",
    "order_counts['cumulative_sum'] = order_counts['order_count'].cumsum()\n",
    "# Determine the H3 indexes that contain 80% of all orders\n",
    "selected_h3_indexes = order_counts[order_counts['cumulative_sum'] <= 0.8 * order_counts['order_count'].sum()]\n",
    "# Visualize the selected H3 indexes on a map, coloring them by the number of fails\n",
    "m = folium.Map(location=[df1['origin_latitude'].mean(), df1['origin_longitude'].mean()], zoom_start=10)\n",
    "\n",
    "for idx, row in selected_h3_indexes.iterrows():\n",
    "    h3_index = row['h3_index']\n",
    "    order_count = row['order_count']\n",
    "    hex_center = h3.h3_to_geo(h3_index)\n",
    "    folium.RegularPolygonMarker(location=[hex_center[0], hex_center[1]], fill_color='red', number_of_sides=6, radius=10, popup=f\"Orders: {order_count}\").add_to(m)\n",
    "\n",
    "m.save(\"map.html\")\n",
    "IFrame(src='map.html', width=700, height=600)"
   ]
  }
 ],
 "metadata": {
  "kernelspec": {
   "display_name": "Python 3 (ipykernel)",
   "language": "python",
   "name": "python3"
  },
  "language_info": {
   "codemirror_mode": {
    "name": "ipython",
    "version": 3
   },
   "file_extension": ".py",
   "mimetype": "text/x-python",
   "name": "python",
   "nbconvert_exporter": "python",
   "pygments_lexer": "ipython3",
   "version": "3.10.13"
  }
 },
 "nbformat": 4,
 "nbformat_minor": 5
}
